{
 "cells": [
  {
   "cell_type": "code",
   "execution_count": 333,
   "metadata": {},
   "outputs": [],
   "source": [
    "import numpy as np\n",
    "import matplotlib.pyplot as plt\n",
    "import pandas as pd"
   ]
  },
  {
   "cell_type": "markdown",
   "metadata": {},
   "source": [
    "**Example: Forward propagation**\n",
    "\n",
    "$$Z^{[1]} = W^{[1]} X + b^{[1]}$$\n",
    "$$A^{[1]} = g_{\\text{ReLU}}(Z^{[1]}))$$\n",
    "$$Z^{[2]} = W^{[2]} A^{[1]} + b^{[2]}$$\n",
    "$$A^{[2]} = g_{\\text{ReLU}}(Z^{[2]}))$$\n",
    "$$Z^{[3]} = W^{[3]} A^{[2]} + b^{[3]}$$\n",
    "$$A^{[3]} = g_{\\text{softmax}}(Z^{[3]})$$"
   ]
  },
  {
   "cell_type": "code",
   "execution_count": 334,
   "metadata": {},
   "outputs": [],
   "source": [
    "def one_hot(Y):\n",
    "    one_hot_Y = np.zeros((Y.size, 10))\n",
    "    one_hot_Y[np.arange(Y.size), Y] = 1\n",
    "    one_hot_Y = one_hot_Y.T\n",
    "    return one_hot_Y\n",
    "    "
   ]
  },
  {
   "cell_type": "code",
   "execution_count": 335,
   "metadata": {},
   "outputs": [],
   "source": [
    "class Linear:\n",
    "\n",
    "    def __init__(self,n_inputs,n_outputs):\n",
    "        self.n_inputs = n_inputs\n",
    "        self.n_outputs = n_outputs\n",
    "        self.weights = ((np.random.rand(n_inputs,n_outputs) * 2 - 1).T) / 100\n",
    "        self.biases = ((np.random.rand(1,n_outputs) * 2 -1).T) / 100\n",
    "    def forward(self,X):\n",
    "        self.X = X\n",
    "        self.Z = self.weights @ self.X + self.biases\n",
    "        return self.Z\n",
    "    def backward(self,Layer):\n",
    "        dz_dw = self.X\n",
    "        dz_db = np.ones_like(Layer.dbackward)\n",
    "        dz_dA = self.weights\n",
    "        self.dweights = Layer.dbackward @ dz_dw.T\n",
    "        self.dbiases = np.mean(Layer.dbackward,axis=1,keepdims=True)\n",
    "        self.dbackward =dz_dA.T @ Layer.dbackward\n",
    "class ReLU:\n",
    "    def forward(self,X):\n",
    "        self.A = np.maximum(0,X)\n",
    "        return self.A\n",
    "        \n",
    "    def backward(self,Layer):\n",
    "        dA_dz = np.where(self.A>0,1,0)\n",
    "        self.dbackward = Layer.dbackward * dA_dz\n",
    "class Sigmoid:\n",
    "    def forward(self,X):\n",
    "        self.A = 1 / (1 + np.exp(-X))\n",
    "        self.X = X\n",
    "        return self.A\n",
    "    def backward(self,Layer):\n",
    "        dA_dz = self.A * (1-self.A)\n",
    "        self.dbackward = Layer.dbackward * dA_dz\n",
    "class SoftMax:\n",
    "    def forward(self,X):\n",
    "        A = np.exp(X) / sum(np.exp(X))\n",
    "        return A\n",
    "    def backward(self,Layer):\n",
    "        clone_matrix = np.array*([self.Y,]*len(self.Y))\n",
    "        jacobian_matrix = np.diag(self.Y) - np.multiply(clone_matrix,clone_matrix.T)\n",
    "        self.dbackward = Layer.dbackward @ jacobian_matrix\n",
    "class MSELoss:\n",
    "    def forward(self,Y_pred,Y_true):\n",
    "        self.Y_pred = Y_pred\n",
    "        self.Y_true = Y_true\n",
    "        self.loss = ((Y_pred-Y_true)**2).mean()\n",
    "        return self.loss\n",
    "    def backward(self):\n",
    "        self.dbackward = 2* (self.Y_pred - self.Y_true)\n",
    "        \n",
    "class CategoricalCrossEntropyLoss:\n",
    "    def forward(self,y_pred,y_true):\n",
    "        y_pred = np.clip(y_pred,1e-7,1-1e-7)\n",
    "        self.y_pred = y_pred\n",
    "        self.y_true = y_true\n",
    "        # self.loss = -np.log(y_pred[range(len(y_true)),y_true[:]])\n",
    "        # return self.loss\n",
    "    def backward(self):\n",
    "        self.dbackward = (self.y_pred - one_hot(self.y_true)) / len(self.y_pred)\n",
    "        \n",
    "    \n",
    "class OptimizerSGD:\n",
    "    def __init__(self,lr=0.001):\n",
    "        self.lr = lr\n",
    "    def update_params(self,Layer):\n",
    "        Layer.weights -= self.lr * Layer.dweights\n",
    "        Layer.biases -= self.lr * Layer.dbiases\n"
   ]
  },
  {
   "cell_type": "code",
   "execution_count": 336,
   "metadata": {},
   "outputs": [],
   "source": [
    "def batch_loader(X, y = None, batch_size=64):\n",
    "  \"\"\" Generates batches for training\"\"\"\n",
    "  n_samples = X.shape[0]\n",
    "  for i in np.arange(0, n_samples, batch_size):\n",
    "    begin, end = i, min(i + batch_size, n_samples)\n",
    "    if y is not None:\n",
    "      yield X[begin:end], y[begin: end]\n",
    "    else:\n",
    "      yield X[begin:end]"
   ]
  },
  {
   "cell_type": "code",
   "execution_count": 337,
   "metadata": {},
   "outputs": [],
   "source": [
    "data = pd.read_csv('train.csv')"
   ]
  },
  {
   "cell_type": "code",
   "execution_count": 338,
   "metadata": {},
   "outputs": [
    {
     "data": {
      "text/html": [
       "<div>\n",
       "<style scoped>\n",
       "    .dataframe tbody tr th:only-of-type {\n",
       "        vertical-align: middle;\n",
       "    }\n",
       "\n",
       "    .dataframe tbody tr th {\n",
       "        vertical-align: top;\n",
       "    }\n",
       "\n",
       "    .dataframe thead th {\n",
       "        text-align: right;\n",
       "    }\n",
       "</style>\n",
       "<table border=\"1\" class=\"dataframe\">\n",
       "  <thead>\n",
       "    <tr style=\"text-align: right;\">\n",
       "      <th></th>\n",
       "      <th>label</th>\n",
       "      <th>pixel0</th>\n",
       "      <th>pixel1</th>\n",
       "      <th>pixel2</th>\n",
       "      <th>pixel3</th>\n",
       "      <th>pixel4</th>\n",
       "      <th>pixel5</th>\n",
       "      <th>pixel6</th>\n",
       "      <th>pixel7</th>\n",
       "      <th>pixel8</th>\n",
       "      <th>...</th>\n",
       "      <th>pixel774</th>\n",
       "      <th>pixel775</th>\n",
       "      <th>pixel776</th>\n",
       "      <th>pixel777</th>\n",
       "      <th>pixel778</th>\n",
       "      <th>pixel779</th>\n",
       "      <th>pixel780</th>\n",
       "      <th>pixel781</th>\n",
       "      <th>pixel782</th>\n",
       "      <th>pixel783</th>\n",
       "    </tr>\n",
       "  </thead>\n",
       "  <tbody>\n",
       "    <tr>\n",
       "      <th>0</th>\n",
       "      <td>1</td>\n",
       "      <td>0</td>\n",
       "      <td>0</td>\n",
       "      <td>0</td>\n",
       "      <td>0</td>\n",
       "      <td>0</td>\n",
       "      <td>0</td>\n",
       "      <td>0</td>\n",
       "      <td>0</td>\n",
       "      <td>0</td>\n",
       "      <td>...</td>\n",
       "      <td>0</td>\n",
       "      <td>0</td>\n",
       "      <td>0</td>\n",
       "      <td>0</td>\n",
       "      <td>0</td>\n",
       "      <td>0</td>\n",
       "      <td>0</td>\n",
       "      <td>0</td>\n",
       "      <td>0</td>\n",
       "      <td>0</td>\n",
       "    </tr>\n",
       "    <tr>\n",
       "      <th>1</th>\n",
       "      <td>0</td>\n",
       "      <td>0</td>\n",
       "      <td>0</td>\n",
       "      <td>0</td>\n",
       "      <td>0</td>\n",
       "      <td>0</td>\n",
       "      <td>0</td>\n",
       "      <td>0</td>\n",
       "      <td>0</td>\n",
       "      <td>0</td>\n",
       "      <td>...</td>\n",
       "      <td>0</td>\n",
       "      <td>0</td>\n",
       "      <td>0</td>\n",
       "      <td>0</td>\n",
       "      <td>0</td>\n",
       "      <td>0</td>\n",
       "      <td>0</td>\n",
       "      <td>0</td>\n",
       "      <td>0</td>\n",
       "      <td>0</td>\n",
       "    </tr>\n",
       "    <tr>\n",
       "      <th>2</th>\n",
       "      <td>1</td>\n",
       "      <td>0</td>\n",
       "      <td>0</td>\n",
       "      <td>0</td>\n",
       "      <td>0</td>\n",
       "      <td>0</td>\n",
       "      <td>0</td>\n",
       "      <td>0</td>\n",
       "      <td>0</td>\n",
       "      <td>0</td>\n",
       "      <td>...</td>\n",
       "      <td>0</td>\n",
       "      <td>0</td>\n",
       "      <td>0</td>\n",
       "      <td>0</td>\n",
       "      <td>0</td>\n",
       "      <td>0</td>\n",
       "      <td>0</td>\n",
       "      <td>0</td>\n",
       "      <td>0</td>\n",
       "      <td>0</td>\n",
       "    </tr>\n",
       "    <tr>\n",
       "      <th>3</th>\n",
       "      <td>4</td>\n",
       "      <td>0</td>\n",
       "      <td>0</td>\n",
       "      <td>0</td>\n",
       "      <td>0</td>\n",
       "      <td>0</td>\n",
       "      <td>0</td>\n",
       "      <td>0</td>\n",
       "      <td>0</td>\n",
       "      <td>0</td>\n",
       "      <td>...</td>\n",
       "      <td>0</td>\n",
       "      <td>0</td>\n",
       "      <td>0</td>\n",
       "      <td>0</td>\n",
       "      <td>0</td>\n",
       "      <td>0</td>\n",
       "      <td>0</td>\n",
       "      <td>0</td>\n",
       "      <td>0</td>\n",
       "      <td>0</td>\n",
       "    </tr>\n",
       "    <tr>\n",
       "      <th>4</th>\n",
       "      <td>0</td>\n",
       "      <td>0</td>\n",
       "      <td>0</td>\n",
       "      <td>0</td>\n",
       "      <td>0</td>\n",
       "      <td>0</td>\n",
       "      <td>0</td>\n",
       "      <td>0</td>\n",
       "      <td>0</td>\n",
       "      <td>0</td>\n",
       "      <td>...</td>\n",
       "      <td>0</td>\n",
       "      <td>0</td>\n",
       "      <td>0</td>\n",
       "      <td>0</td>\n",
       "      <td>0</td>\n",
       "      <td>0</td>\n",
       "      <td>0</td>\n",
       "      <td>0</td>\n",
       "      <td>0</td>\n",
       "      <td>0</td>\n",
       "    </tr>\n",
       "  </tbody>\n",
       "</table>\n",
       "<p>5 rows × 785 columns</p>\n",
       "</div>"
      ],
      "text/plain": [
       "   label  pixel0  pixel1  pixel2  pixel3  pixel4  pixel5  pixel6  pixel7  \\\n",
       "0      1       0       0       0       0       0       0       0       0   \n",
       "1      0       0       0       0       0       0       0       0       0   \n",
       "2      1       0       0       0       0       0       0       0       0   \n",
       "3      4       0       0       0       0       0       0       0       0   \n",
       "4      0       0       0       0       0       0       0       0       0   \n",
       "\n",
       "   pixel8  ...  pixel774  pixel775  pixel776  pixel777  pixel778  pixel779  \\\n",
       "0       0  ...         0         0         0         0         0         0   \n",
       "1       0  ...         0         0         0         0         0         0   \n",
       "2       0  ...         0         0         0         0         0         0   \n",
       "3       0  ...         0         0         0         0         0         0   \n",
       "4       0  ...         0         0         0         0         0         0   \n",
       "\n",
       "   pixel780  pixel781  pixel782  pixel783  \n",
       "0         0         0         0         0  \n",
       "1         0         0         0         0  \n",
       "2         0         0         0         0  \n",
       "3         0         0         0         0  \n",
       "4         0         0         0         0  \n",
       "\n",
       "[5 rows x 785 columns]"
      ]
     },
     "execution_count": 338,
     "metadata": {},
     "output_type": "execute_result"
    }
   ],
   "source": [
    "data.head()"
   ]
  },
  {
   "cell_type": "code",
   "execution_count": 339,
   "metadata": {},
   "outputs": [],
   "source": [
    "data = np.array(data)\n",
    "np.random.shuffle(data)\n",
    "data = data.T\n",
    "X_train = data[1:].T / 255.\n",
    "y_train = data[0]"
   ]
  },
  {
   "cell_type": "code",
   "execution_count": 340,
   "metadata": {},
   "outputs": [
    {
     "data": {
      "text/plain": [
       "(42000, 784)"
      ]
     },
     "execution_count": 340,
     "metadata": {},
     "output_type": "execute_result"
    }
   ],
   "source": [
    "X_train.shape"
   ]
  },
  {
   "cell_type": "code",
   "execution_count": 341,
   "metadata": {},
   "outputs": [],
   "source": [
    "X_val = X_train[:1000][:]\n",
    "y_val = y_train[:1000]\n",
    "X_train_new = X_train[1000:][:]\n",
    "y_train_new = y_train[1000:]"
   ]
  },
  {
   "cell_type": "code",
   "execution_count": 342,
   "metadata": {},
   "outputs": [
    {
     "data": {
      "text/plain": [
       "((1000, 784), (1000,))"
      ]
     },
     "execution_count": 342,
     "metadata": {},
     "output_type": "execute_result"
    }
   ],
   "source": [
    "X_val.shape,y_val.shape"
   ]
  },
  {
   "cell_type": "code",
   "execution_count": 343,
   "metadata": {},
   "outputs": [
    {
     "data": {
      "text/plain": [
       "((41000, 784), (41000,))"
      ]
     },
     "execution_count": 343,
     "metadata": {},
     "output_type": "execute_result"
    }
   ],
   "source": [
    "X_train_new.shape,y_train_new.shape"
   ]
  },
  {
   "cell_type": "code",
   "execution_count": 344,
   "metadata": {},
   "outputs": [
    {
     "name": "stdout",
     "output_type": "stream",
     "text": [
      "Label: 7\n"
     ]
    },
    {
     "data": {
      "image/png": "[encoded data removed]",
      "text/plain": [
       "<Figure size 432x288 with 1 Axes>"
      ]
     },
     "metadata": {
      "needs_background": "light"
     },
     "output_type": "display_data"
    }
   ],
   "source": [
    "index = 0\n",
    "plt.gray()\n",
    "plt.imshow(X_train[index].reshape(28,28),interpolation='nearest')\n",
    "print(f'Label: {y_train[index]}')"
   ]
  },
  {
   "cell_type": "code",
   "execution_count": 345,
   "metadata": {},
   "outputs": [],
   "source": [
    "class NeuralNetwork:\n",
    "    def __init__(self,n_inputs,n_outputs,loss='CategoricalCrossEntropyLoss'):\n",
    "        self.n_inputs = n_inputs\n",
    "        self.n_outputs = n_outputs\n",
    "        self.linear1 = Linear(n_inputs=self.n_inputs,n_outputs=64)\n",
    "        self.sigmoid1 = ReLU()\n",
    "        self.linear2 = Linear(n_inputs=64,n_outputs=256)\n",
    "        self.sigmoid2 = ReLU()\n",
    "        self.linear3 = Linear(n_inputs=256,n_outputs=self.n_outputs)\n",
    "        self.softmax = SoftMax()\n",
    "        self.loss_mode = loss\n",
    "        if loss=='CategoricalCrossEntropyLoss':\n",
    "            self.loss = CategoricalCrossEntropyLoss()\n",
    "        elif loss==\"MSELoss\":\n",
    "            self.loss = MSELoss()\n",
    "    def forward(self,X):\n",
    "        X = self.linear1.forward(X)\n",
    "        X = self.sigmoid1.forward(X)\n",
    "        X = self.linear2.forward(X)\n",
    "        X = self.sigmoid2.forward(X)\n",
    "        X = self.linear3.forward(X)\n",
    "        if self.loss_mode == 'CategoricalCrossEntropyLoss':\n",
    "            X = self.softmax.forward(X)\n",
    "        else:\n",
    "            pass\n",
    "        return X\n",
    "    \n",
    "    def calculate_loss(self,y_pred,y_true):\n",
    "        self.loss.forward(y_pred,y_true)\n",
    "        \n",
    "    def backward(self):\n",
    "        self.loss.backward()\n",
    "        self.linear3.backward(self.loss)\n",
    "        self.sigmoid2.backward(self.linear3)\n",
    "        self.linear2.backward(self.sigmoid2)\n",
    "        self.sigmoid1.backward(self.linear2)\n",
    "        self.linear1.backward(self.sigmoid1)\n",
    "    \n",
    "    def update(self):\n",
    "        optim = OptimizerSGD(lr=self.lr)\n",
    "        optim.update_params(self.linear1)\n",
    "        optim.update_params(self.linear2)\n",
    "        optim.update_params(self.linear3)\n",
    "    \n",
    "    def prediction(self,y_pred):\n",
    "        return np.argmax(y_pred,axis=0)\n",
    "    def accuracy(self,y_pred,y_true):\n",
    "        return sum(self.prediction(y_pred)==y_true) / len(y_pred)\n",
    "    def fit(self,X,y,epochs = 1000,lr=0.1,batch_size=32):\n",
    "        index = np.random.shuffle(np.arange(len(X)))\n",
    "        self.lr = lr\n",
    "        for i in range(epochs):\n",
    "            index = np.arange(len(X.T))\n",
    "            np.random.shuffle(index)\n",
    "            self.X = (X.T[index[:]])\n",
    "            self.y = y[index[:]]\n",
    "            for X_batch,y_batch in batch_loader(self.X,self.y,batch_size=batch_size):\n",
    "                y_pred = self.forward(X_batch.T)\n",
    "                self.calculate_loss(y_pred,y_batch)\n",
    "                self.backward()\n",
    "                self.update()\n",
    "            if self.loss_mode=='CategoricalCrossEntropyLoss':\n",
    "                print(f\"Epochs{i} : Accuracy :{self.accuracy(self.forward(X_val.T),y_val)}\")\n",
    "            else:\n",
    "                print(self.forward(self.X).item())         \n",
    "\n"
   ]
  },
  {
   "cell_type": "code",
   "execution_count": 346,
   "metadata": {},
   "outputs": [],
   "source": [
    "model = NeuralNetwork(n_inputs=784,n_outputs=10,loss='CategoricalCrossEntropyLoss')\n"
   ]
  },
  {
   "cell_type": "code",
   "execution_count": 347,
   "metadata": {},
   "outputs": [
    {
     "name": "stdout",
     "output_type": "stream",
     "text": [
      "Epochs0 : Accuracy :23.9\n",
      "Epochs1 : Accuracy :84.2\n",
      "Epochs2 : Accuracy :89.1\n",
      "Epochs3 : Accuracy :89.8\n",
      "Epochs4 : Accuracy :93.9\n",
      "Epochs5 : Accuracy :94.3\n",
      "Epochs6 : Accuracy :94.7\n",
      "Epochs7 : Accuracy :95.2\n",
      "Epochs8 : Accuracy :95.3\n",
      "Epochs9 : Accuracy :94.9\n",
      "Epochs10 : Accuracy :95.5\n",
      "Epochs11 : Accuracy :95.9\n",
      "Epochs12 : Accuracy :96.3\n",
      "Epochs13 : Accuracy :95.9\n",
      "Epochs14 : Accuracy :95.9\n",
      "Epochs15 : Accuracy :96.8\n",
      "Epochs16 : Accuracy :96.6\n",
      "Epochs17 : Accuracy :96.5\n",
      "Epochs18 : Accuracy :97.0\n",
      "Epochs19 : Accuracy :96.6\n"
     ]
    }
   ],
   "source": [
    "model.fit(X_train_new.T,y_train_new,epochs=20,lr=0.01,batch_size=64)"
   ]
  },
  {
   "cell_type": "code",
   "execution_count": 348,
   "metadata": {},
   "outputs": [],
   "source": [
    "data_test = pd.read_csv('test.csv')"
   ]
  },
  {
   "cell_type": "code",
   "execution_count": 349,
   "metadata": {},
   "outputs": [],
   "source": [
    "data_test = np.array(data_test) / 255\n",
    "np.random.shuffle(data_test)\n"
   ]
  },
  {
   "cell_type": "code",
   "execution_count": 350,
   "metadata": {},
   "outputs": [
    {
     "data": {
      "text/plain": [
       "42000"
      ]
     },
     "execution_count": 350,
     "metadata": {},
     "output_type": "execute_result"
    }
   ],
   "source": [
    "X_train.shape[0]"
   ]
  },
  {
   "cell_type": "code",
   "execution_count": 351,
   "metadata": {},
   "outputs": [],
   "source": [
    "def predict(x):\n",
    "    return model.prediction(model.forward(x.reshape(-1,1))).item()"
   ]
  },
  {
   "cell_type": "code",
   "execution_count": 352,
   "metadata": {},
   "outputs": [
    {
     "data": {
      "text/plain": [
       "<Figure size 432x288 with 0 Axes>"
      ]
     },
     "metadata": {},
     "output_type": "display_data"
    },
    {
     "data": {
      "image/png": "[encoded data removed]",
      "text/plain": [
       "<Figure size 1440x576 with 5 Axes>"
      ]
     },
     "metadata": {
      "needs_background": "light"
     },
     "output_type": "display_data"
    }
   ],
   "source": [
    "plt.gray()\n",
    "plt.figure(figsize=(20,8))\n",
    "num = 5\n",
    "for i in range(1,num+1):\n",
    "    plt.subplot(1,num,i)\n",
    "    plt.imshow(data_test[i].reshape(28,28),interpolation='nearest')\n",
    "    plt.title(f\"Prediction: {predict(data_test[i])}\")"
   ]
  }
 ],
 "metadata": {
  "kernelspec": {
   "display_name": "Python 3.9.7 ('pytorchenv')",
   "language": "python",
   "name": "python3"
  },
  "language_info": {
   "codemirror_mode": {
    "name": "ipython",
    "version": 3
   },
   "file_extension": ".py",
   "mimetype": "text/x-python",
   "name": "python",
   "nbconvert_exporter": "python",
   "pygments_lexer": "ipython3",
   "version": "3.9.7"
  },
  "orig_nbformat": 4,
  "vscode": {
   "interpreter": {
    "hash": "5581cd8f8e7f555d1c7b7d5c73b743c62e9c35962a29bf47b3ccdfb22fa58433"
   }
  }
 },
 "nbformat": 4,
 "nbformat_minor": 2
}
