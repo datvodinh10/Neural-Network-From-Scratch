{
 "cells": [
  {
   "cell_type": "code",
   "execution_count": 920,
   "metadata": {},
   "outputs": [],
   "source": [
    "import numpy as np\n",
    "import matplotlib.pyplot as plt\n",
    "import pandas as pd"
   ]
  },
  {
   "cell_type": "markdown",
   "metadata": {},
   "source": [
    "**Example: Forward propagation**\n",
    "\n",
    "$$Z^{[1]} = W^{[1]} X + b^{[1]}$$\n",
    "$$A^{[1]} = g_{\\text{ReLU}}(Z^{[1]}))$$\n",
    "$$Z^{[2]} = W^{[2]} A^{[1]} + b^{[2]}$$\n",
    "$$A^{[2]} = g_{\\text{ReLU}}(Z^{[2]}))$$\n",
    "$$Z^{[3]} = W^{[3]} A^{[2]} + b^{[3]}$$\n",
    "$$A^{[3]} = g_{\\text{softmax}}(Z^{[3]})$$"
   ]
  },
  {
   "cell_type": "code",
   "execution_count": 921,
   "metadata": {},
   "outputs": [],
   "source": [
    "def one_hot(Y):\n",
    "    one_hot_Y = np.zeros((Y.size, 10))\n",
    "    one_hot_Y[np.arange(Y.size), Y] = 1\n",
    "    one_hot_Y = one_hot_Y.T\n",
    "    return one_hot_Y\n",
    "    "
   ]
  },
  {
   "cell_type": "code",
   "execution_count": 922,
   "metadata": {},
   "outputs": [],
   "source": [
    "class Linear:\n",
    "\n",
    "    def __init__(self,n_inputs,n_outputs):\n",
    "        self.n_inputs = n_inputs\n",
    "        self.n_outputs = n_outputs\n",
    "        self.weights = np.random.rand(n_inputs,n_outputs) - 0.5\n",
    "        self.biases = np.zeros((1,n_outputs))\n",
    "    def forward(self,X):\n",
    "        self.X = X\n",
    "        self.Z = self.X.dot(self.weights) + self.biases\n",
    "        return self.Z\n",
    "    def backward(self,Layer):\n",
    "        dz_dw = self.X\n",
    "        dz_db = np.ones_like(Layer.dbackward)\n",
    "        dz_dA = self.weights\n",
    "        self.dweights = dz_dw.T.dot(Layer.dbackward)\n",
    "        self.dbiases = np.sum(Layer.dbackward,axis=0,keepdims=True)\n",
    "        self.dbackward =Layer.dbackward.dot(dz_dA.T)\n",
    "class ReLU:\n",
    "    def forward(self,X):\n",
    "        self.A = np.maximum(0,X)\n",
    "        return self.A\n",
    "        \n",
    "    def backward(self,Layer):\n",
    "        dA_dz = np.where(Layer.dbackward>0,1,0)\n",
    "        self.dbackward = np.multiply(Layer.dbackward,dA_dz)\n",
    "    \n",
    "class SoftMax:\n",
    "    def forward(self,X):\n",
    "        c = np.max(X,axis=1).reshape(-1,1)\n",
    "        Y = np.exp(X-c) / np.sum(np.exp(X-c),axis=1,keepdims=True)\n",
    "        self.output = Y\n",
    "        return Y\n",
    "    def backward(self,Layer):\n",
    "        clone_matrix = np.array*([self.Y,]*len(self.Y))\n",
    "        jacobian_matrix = np.diag(self.Y) - np.multiply(clone_matrix,clone_matrix.T)\n",
    "        self.dbackward = Layer.dbackward @ jacobian_matrix\n",
    "class MSELoss:\n",
    "    def forward(self,Y_pred,Y_true):\n",
    "        self.Y_pred = Y_pred\n",
    "        self.Y_true = Y_true\n",
    "        self.loss = ((Y_pred-Y_true)**2).mean()\n",
    "        return self.loss\n",
    "    def backward(self):\n",
    "        self.dbackward = 2* (self.Y_pred - self.Y_true)\n",
    "        \n",
    "class CategoricalCrossEntropyLoss:\n",
    "    def forward(self,y_pred,y_true):\n",
    "        self.loss = -np.max(np.log(y_pred),axis=1)\n",
    "    def backward(self,y_pred,y_true):\n",
    "        self.dbackward = (y_pred - one_hot(y_true).T) / len(y_true)\n",
    "        \n",
    "    \n",
    "class OptimizerSGD:\n",
    "    def __init__(self,lr=0.1):\n",
    "        self.lr = lr\n",
    "    def update_params(self,Layer):\n",
    "        Layer.weights -= self.lr * Layer.dweights\n",
    "        Layer.biases -= self.lr * Layer.dbiases\n"
   ]
  },
  {
   "cell_type": "code",
   "execution_count": 923,
   "metadata": {},
   "outputs": [],
   "source": [
    "class NeuralNetwork:\n",
    "    def __init__(self,n_inputs,n_outputs):\n",
    "        self.n_inputs = n_inputs\n",
    "        self.n_outputs = n_outputs\n",
    "        self.linear1 = Linear(n_inputs=self.n_inputs,n_outputs=64)\n",
    "        self.relu1 = ReLU()\n",
    "        self.linear2 = Linear(n_inputs=64,n_outputs=128)\n",
    "        self.relu2 = ReLU()\n",
    "        self.linear3 = Linear(n_inputs=128,n_outputs=self.n_outputs)\n",
    "        self.softmax = SoftMax()\n",
    "        self.loss = CategoricalCrossEntropyLoss()\n",
    "    def forward(self,X):\n",
    "        X = self.linear1.forward(X)\n",
    "        X = self.relu1.forward(X)\n",
    "        X = self.linear2.forward(X)\n",
    "        X = self.relu2.forward(X)\n",
    "        X = self.linear3.forward(X)\n",
    "        X = self.softmax.forward(X)\n",
    "        return X\n",
    "    \n",
    "    def calculate_loss(self,y_pred,y_true):\n",
    "        self.loss.forward(y_pred,y_true)\n",
    "        \n",
    "    def backward(self):\n",
    "        self.loss.backward(self.softmax.output,self.y)\n",
    "        self.linear3.backward(self.loss)\n",
    "        self.relu2.backward(self.linear3)\n",
    "        self.linear2.backward(self.relu2)\n",
    "        self.relu1.backward(self.linear2)\n",
    "        self.linear1.backward(self.relu1)\n",
    "    \n",
    "    def update(self):\n",
    "        optim = OptimizerSGD(lr=self.lr)\n",
    "        optim.update_params(self.linear1)\n",
    "        optim.update_params(self.linear2)\n",
    "        optim.update_params(self.linear3)\n",
    "    \n",
    "    def prediction(self,y_pred):\n",
    "        return np.argmax(y_pred,axis=1)\n",
    "    def accuracy(self,y_pred,y_true):\n",
    "        return sum(self.prediction(y_pred)==y_true) / len(y_pred)\n",
    "    def fit(self,X,y,epochs = 1000,lr=0.1):\n",
    "        self.X = X\n",
    "        self.y = y\n",
    "        self.lr = lr\n",
    "        for i in range(epochs):\n",
    "            y_pred = self.forward(X)\n",
    "            self.calculate_loss(y_pred,y)\n",
    "            self.backward()\n",
    "            self.update()\n",
    "            if i%10==0:\n",
    "                print(f\"Epochs {i}: {self.prediction(y_pred)} {self.y}\")\n",
    "                print(f\"Accuracy: {self.accuracy(y_pred,y)}\")\n",
    "                \n",
    "\n"
   ]
  },
  {
   "cell_type": "code",
   "execution_count": 924,
   "metadata": {},
   "outputs": [],
   "source": [
    "data = pd.read_csv('train.csv')"
   ]
  },
  {
   "cell_type": "code",
   "execution_count": 925,
   "metadata": {},
   "outputs": [],
   "source": [
    "data = np.array(data)\n",
    "np.random.shuffle(data)\n",
    "data = data.T\n",
    "X_train = data[1:].T / 255.\n",
    "y_train = data[0]"
   ]
  },
  {
   "cell_type": "code",
   "execution_count": 926,
   "metadata": {},
   "outputs": [
    {
     "name": "stdout",
     "output_type": "stream",
     "text": [
      "Label: 5\n"
     ]
    },
    {
     "data": {
      "image/png": "[encoded data removed]",
      "text/plain": [
       "<Figure size 432x288 with 1 Axes>"
      ]
     },
     "metadata": {
      "needs_background": "light"
     },
     "output_type": "display_data"
    }
   ],
   "source": [
    "index = 3456\n",
    "plt.gray()\n",
    "plt.imshow(X_train[index].reshape(28,28),interpolation='nearest')\n",
    "print(f'Label: {y_train[index]}')"
   ]
  },
  {
   "cell_type": "code",
   "execution_count": 934,
   "metadata": {},
   "outputs": [
    {
     "name": "stdout",
     "output_type": "stream",
     "text": [
      "Epochs 0: [0 0 0 0 0] [9 3 3 4 2]\n",
      "Accuracy: 0.0\n",
      "Epochs 10: [9 3 3 4 2] [9 3 3 4 2]\n",
      "Accuracy: 1.0\n",
      "Epochs 20: [9 3 3 4 2] [9 3 3 4 2]\n",
      "Accuracy: 1.0\n",
      "Epochs 30: [9 3 3 4 2] [9 3 3 4 2]\n",
      "Accuracy: 1.0\n",
      "Epochs 40: [9 3 3 4 2] [9 3 3 4 2]\n",
      "Accuracy: 1.0\n",
      "Epochs 50: [9 3 3 4 2] [9 3 3 4 2]\n",
      "Accuracy: 1.0\n",
      "Epochs 60: [3 3 3 4 2] [9 3 3 4 2]\n",
      "Accuracy: 0.8\n",
      "Epochs 70: [3 3 3 2 2] [9 3 3 4 2]\n",
      "Accuracy: 0.6\n",
      "Epochs 80: [3 3 3 3 2] [9 3 3 4 2]\n",
      "Accuracy: 0.6\n",
      "Epochs 90: [3 3 3 3 2] [9 3 3 4 2]\n",
      "Accuracy: 0.6\n"
     ]
    }
   ],
   "source": [
    "model = NeuralNetwork(n_inputs=784,n_outputs=10)\n",
    "model.fit(X_train[:5],y_train[:5],epochs=100,lr=0.1)"
   ]
  },
  {
   "cell_type": "code",
   "execution_count": 928,
   "metadata": {},
   "outputs": [
    {
     "data": {
      "text/plain": [
       "array([[0.33333333, 0.66666667, 1.        ],\n",
       "       [0.66666667, 1.        , 0.83333333],\n",
       "       [1.        , 0.03433476, 0.03862661]])"
      ]
     },
     "execution_count": 928,
     "metadata": {},
     "output_type": "execute_result"
    }
   ],
   "source": [
    "s = np.array([[1,2,3],[4,6,5],[233,8,9]])\n",
    "s / np.max(s,axis=1).reshape(-1,1)"
   ]
  },
  {
   "cell_type": "code",
   "execution_count": 929,
   "metadata": {},
   "outputs": [
    {
     "data": {
      "text/plain": [
       "array([[0.00000000e+00, 0.00000000e+00, 0.00000000e+00, 0.00000000e+00,\n",
       "        0.00000000e+00, 0.00000000e+00, 0.00000000e+00, 0.00000000e+00,\n",
       "        0.00000000e+00, 6.01691086e-04],\n",
       "       [0.00000000e+00, 0.00000000e+00, 0.00000000e+00, 2.16383548e-03,\n",
       "        0.00000000e+00, 0.00000000e+00, 0.00000000e+00, 0.00000000e+00,\n",
       "        0.00000000e+00, 0.00000000e+00],\n",
       "       [0.00000000e+00, 0.00000000e+00, 0.00000000e+00, 3.39993808e-04,\n",
       "        0.00000000e+00, 0.00000000e+00, 0.00000000e+00, 0.00000000e+00,\n",
       "        0.00000000e+00, 0.00000000e+00],\n",
       "       [0.00000000e+00, 0.00000000e+00, 0.00000000e+00, 0.00000000e+00,\n",
       "        1.48733657e+01, 0.00000000e+00, 0.00000000e+00, 0.00000000e+00,\n",
       "        0.00000000e+00, 0.00000000e+00],\n",
       "       [0.00000000e+00, 0.00000000e+00, 4.66455791e+01, 0.00000000e+00,\n",
       "        0.00000000e+00, 0.00000000e+00, 0.00000000e+00, 0.00000000e+00,\n",
       "        0.00000000e+00, 0.00000000e+00]])"
      ]
     },
     "execution_count": 929,
     "metadata": {},
     "output_type": "execute_result"
    }
   ],
   "source": [
    "y_pred = model.forward(X_train)\n",
    "-np.multiply(np.log(y_pred),one_hot(y_train).T)[:5]"
   ]
  },
  {
   "cell_type": "code",
   "execution_count": 930,
   "metadata": {},
   "outputs": [
    {
     "data": {
      "text/plain": [
       "array([-0.00060169, -0.00216384, -0.00033999, ..., -0.30569674,\n",
       "       -0.14476499, -0.00450841])"
      ]
     },
     "execution_count": 930,
     "metadata": {},
     "output_type": "execute_result"
    }
   ],
   "source": [
    "np.max(np.log(y_pred),axis=1)"
   ]
  },
  {
   "cell_type": "code",
   "execution_count": 931,
   "metadata": {},
   "outputs": [
    {
     "data": {
      "text/plain": [
       "array([[0., 0., 0., ..., 0., 0., 0.],\n",
       "       [0., 0., 0., ..., 0., 0., 0.]])"
      ]
     },
     "execution_count": 931,
     "metadata": {},
     "output_type": "execute_result"
    }
   ],
   "source": [
    "X_train[:2]"
   ]
  },
  {
   "cell_type": "code",
   "execution_count": 932,
   "metadata": {},
   "outputs": [
    {
     "data": {
      "text/plain": [
       "array([9, 3], dtype=int64)"
      ]
     },
     "execution_count": 932,
     "metadata": {},
     "output_type": "execute_result"
    }
   ],
   "source": [
    "y_train[:2]"
   ]
  },
  {
   "cell_type": "code",
   "execution_count": null,
   "metadata": {},
   "outputs": [],
   "source": []
  }
 ],
 "metadata": {
  "kernelspec": {
   "display_name": "Python 3.9.7 ('pytorchenv')",
   "language": "python",
   "name": "python3"
  },
  "language_info": {
   "codemirror_mode": {
    "name": "ipython",
    "version": 3
   },
   "file_extension": ".py",
   "mimetype": "text/x-python",
   "name": "python",
   "nbconvert_exporter": "python",
   "pygments_lexer": "ipython3",
   "version": "3.9.7"
  },
  "orig_nbformat": 4,
  "vscode": {
   "interpreter": {
    "hash": "5581cd8f8e7f555d1c7b7d5c73b743c62e9c35962a29bf47b3ccdfb22fa58433"
   }
  }
 },
 "nbformat": 4,
 "nbformat_minor": 2
}
